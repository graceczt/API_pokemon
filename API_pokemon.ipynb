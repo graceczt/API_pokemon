{
  "cells": [
    {
      "cell_type": "code",
      "execution_count": 1,
      "metadata": {
        "colab": {
          "base_uri": "https://localhost:8080/"
        },
        "id": "1HrBi9ME4sHd",
        "outputId": "70094795-0a5c-4fd5-e38b-e87270ca12e2"
      },
      "outputs": [
        {
          "name": "stdout",
          "output_type": "stream",
          "text": [
            "Looking in indexes: https://pypi.org/simple, https://us-python.pkg.dev/colab-wheels/public/simple/\n",
            "Requirement already satisfied: requests in /usr/local/lib/python3.7/dist-packages (2.23.0)\n",
            "Requirement already satisfied: urllib3!=1.25.0,!=1.25.1,<1.26,>=1.21.1 in /usr/local/lib/python3.7/dist-packages (from requests) (1.24.3)\n",
            "Requirement already satisfied: chardet<4,>=3.0.2 in /usr/local/lib/python3.7/dist-packages (from requests) (3.0.4)\n",
            "Requirement already satisfied: certifi>=2017.4.17 in /usr/local/lib/python3.7/dist-packages (from requests) (2022.6.15)\n",
            "Requirement already satisfied: idna<3,>=2.5 in /usr/local/lib/python3.7/dist-packages (from requests) (2.10)\n"
          ]
        }
      ],
      "source": [
        "!pip install requests"
      ]
    },
    {
      "cell_type": "code",
      "execution_count": 2,
      "metadata": {
        "id": "D3lu27aw56Xs"
      },
      "outputs": [],
      "source": [
        "import requests"
      ]
    },
    {
      "cell_type": "code",
      "execution_count": 3,
      "metadata": {
        "id": "PoVBdZmQ56ZJ"
      },
      "outputs": [],
      "source": [
        "# import url for API call\n",
        "\n",
        "url = 'https://pokeapi.co/api/v2/pokemon/squirtle'\n"
      ]
    },
    {
      "cell_type": "code",
      "execution_count": 4,
      "metadata": {
        "id": "3lNjdafvBR6x"
      },
      "outputs": [],
      "source": [
        "#create requests\n",
        "\n",
        "pokemon_r = requests.get(url)"
      ]
    },
    {
      "cell_type": "code",
      "execution_count": 5,
      "metadata": {
        "colab": {
          "base_uri": "https://localhost:8080/"
        },
        "id": "_ynnhkZqBmMa",
        "outputId": "99a5ead4-e1cf-4269-9c3e-5f9ddc2ebf76"
      },
      "outputs": [
        {
          "data": {
            "text/plain": [
              "200"
            ]
          },
          "execution_count": 5,
          "metadata": {},
          "output_type": "execute_result"
        }
      ],
      "source": [
        "#request for code to check if working\n",
        "# 404 means not working\n",
        "\n",
        "pokemon_r.status_code"
      ]
    },
    {
      "cell_type": "code",
      "execution_count": 7,
      "metadata": {
        "id": "Tt3_7uOuCBxv"
      },
      "outputs": [],
      "source": [
        "#bring in json\n",
        "\n",
        "pokemon_r_j = pokemon_r.json()"
      ]
    },
    {
      "cell_type": "code",
      "execution_count": 8,
      "metadata": {
        "colab": {
          "base_uri": "https://localhost:8080/"
        },
        "id": "JOGLHgKSCYfI",
        "outputId": "17ed8953-3247-4db7-f3fb-cd206715bc72"
      },
      "outputs": [
        {
          "data": {
            "text/plain": [
              "dict"
            ]
          },
          "execution_count": 8,
          "metadata": {},
          "output_type": "execute_result"
        }
      ],
      "source": [
        "type(pokemon_r_j)"
      ]
    },
    {
      "cell_type": "code",
      "execution_count": 9,
      "metadata": {
        "colab": {
          "base_uri": "https://localhost:8080/"
        },
        "id": "5lzEkAwfCgsq",
        "outputId": "c85c6aad-09e7-4c5d-e991-0d46423de9fd"
      },
      "outputs": [
        {
          "data": {
            "text/plain": [
              "dict_keys(['abilities', 'base_experience', 'forms', 'game_indices', 'height', 'held_items', 'id', 'is_default', 'location_area_encounters', 'moves', 'name', 'order', 'past_types', 'species', 'sprites', 'stats', 'types', 'weight'])"
            ]
          },
          "execution_count": 9,
          "metadata": {},
          "output_type": "execute_result"
        }
      ],
      "source": [
        "pokemon_r_j.keys()"
      ]
    },
    {
      "cell_type": "code",
      "execution_count": 12,
      "metadata": {
        "colab": {
          "base_uri": "https://localhost:8080/",
          "height": 35
        },
        "id": "QMi50AMNCqLK",
        "outputId": "51fd9ff6-8c2b-4c3b-d0b3-f28e4097b4da"
      },
      "outputs": [
        {
          "data": {
            "application/vnd.google.colaboratory.intrinsic+json": {
              "type": "string"
            },
            "text/plain": [
              "'squirtle'"
            ]
          },
          "execution_count": 12,
          "metadata": {},
          "output_type": "execute_result"
        }
      ],
      "source": [
        "# checks creature name ?\n",
        "\n",
        "pokemon_r_j['name']\n"
      ]
    },
    {
      "cell_type": "code",
      "execution_count": 13,
      "metadata": {
        "colab": {
          "base_uri": "https://localhost:8080/"
        },
        "id": "9rxCPfITC1SG",
        "outputId": "f058b840-b88b-4501-b357-a9e7ce117dd7"
      },
      "outputs": [
        {
          "data": {
            "text/plain": [
              "90"
            ]
          },
          "execution_count": 13,
          "metadata": {},
          "output_type": "execute_result"
        }
      ],
      "source": [
        "# what is squittle weight ?\n",
        "pokemon_r_j['weight']\n"
      ]
    },
    {
      "cell_type": "code",
      "execution_count": 14,
      "metadata": {
        "colab": {
          "base_uri": "https://localhost:8080/"
        },
        "id": "RG_xUkLRDOhd",
        "outputId": "8f66fb79-0995-4a7b-d976-60d535e40982"
      },
      "outputs": [
        {
          "data": {
            "text/plain": [
              "[{'ability': {'name': 'torrent',\n",
              "   'url': 'https://pokeapi.co/api/v2/ability/67/'},\n",
              "  'is_hidden': False,\n",
              "  'slot': 1},\n",
              " {'ability': {'name': 'rain-dish',\n",
              "   'url': 'https://pokeapi.co/api/v2/ability/44/'},\n",
              "  'is_hidden': True,\n",
              "  'slot': 3}]"
            ]
          },
          "execution_count": 14,
          "metadata": {},
          "output_type": "execute_result"
        }
      ],
      "source": [
        "# what is squirtle abilities ?\n",
        "\n",
        "pokemon_r_j['abilities']"
      ]
    },
    {
      "cell_type": "code",
      "execution_count": 17,
      "metadata": {
        "colab": {
          "base_uri": "https://localhost:8080/",
          "height": 35
        },
        "id": "US_E9RhvDrQQ",
        "outputId": "f4d7ce45-ca24-42dc-ad4f-fc91f12f3133"
      },
      "outputs": [
        {
          "data": {
            "application/vnd.google.colaboratory.intrinsic+json": {
              "type": "string"
            },
            "text/plain": [
              "'torrent'"
            ]
          },
          "execution_count": 17,
          "metadata": {},
          "output_type": "execute_result"
        }
      ],
      "source": [
        "#  select first ability only\n",
        "\n",
        "pokemon_r_j['abilities'][0]['ability']['name']"
      ]
    },
    {
      "cell_type": "code",
      "execution_count": 18,
      "metadata": {
        "colab": {
          "base_uri": "https://localhost:8080/",
          "height": 35
        },
        "id": "tXPKHgoMEMOK",
        "outputId": "51398148-9ccb-49d1-baef-94de26eaf011"
      },
      "outputs": [
        {
          "data": {
            "application/vnd.google.colaboratory.intrinsic+json": {
              "type": "string"
            },
            "text/plain": [
              "'rain-dish'"
            ]
          },
          "execution_count": 18,
          "metadata": {},
          "output_type": "execute_result"
        }
      ],
      "source": [
        "# select second ability only\n",
        "\n",
        "pokemon_r_j['abilities'][1]['ability']['name']"
      ]
    },
    {
      "cell_type": "code",
      "execution_count": 20,
      "metadata": {
        "colab": {
          "base_uri": "https://localhost:8080/"
        },
        "id": "G3GUejenEXNj",
        "outputId": "41f9df17-f7c3-4128-bf7c-2d543c8d1dbe"
      },
      "outputs": [
        {
          "data": {
            "text/plain": [
              "[{'ability': {'name': 'torrent',\n",
              "   'url': 'https://pokeapi.co/api/v2/ability/67/'},\n",
              "  'is_hidden': False,\n",
              "  'slot': 1},\n",
              " {'ability': {'name': 'rain-dish',\n",
              "   'url': 'https://pokeapi.co/api/v2/ability/44/'},\n",
              "  'is_hidden': True,\n",
              "  'slot': 3}]"
            ]
          },
          "execution_count": 20,
          "metadata": {},
          "output_type": "execute_result"
        }
      ],
      "source": [
        "pokemon_r_j['abilities'][:]"
      ]
    },
    {
      "cell_type": "code",
      "execution_count": 26,
      "metadata": {
        "id": "9FrmSHsJF4sf"
      },
      "outputs": [],
      "source": [
        "# select moves using list comprehensions\n",
        "squirtle_move = [move['move']['name'] for move in pokemon_r_j['moves']]"
      ]
    },
    {
      "cell_type": "code",
      "execution_count": 27,
      "metadata": {
        "colab": {
          "base_uri": "https://localhost:8080/"
        },
        "id": "7BPNPK0jITCE",
        "outputId": "9acde303-8469-45f3-b04c-bd7ab9fc6b07"
      },
      "outputs": [
        {
          "name": "stdout",
          "output_type": "stream",
          "text": [
            "['mega-punch', 'ice-punch', 'mega-kick', 'headbutt', 'tackle', 'body-slam', 'take-down', 'double-edge', 'tail-whip', 'bite', 'mist', 'water-gun', 'hydro-pump', 'surf', 'ice-beam', 'blizzard', 'bubble-beam', 'submission', 'counter', 'seismic-toss', 'strength', 'dig', 'toxic', 'confusion', 'rage', 'mimic', 'double-team', 'withdraw', 'defense-curl', 'haze', 'reflect', 'bide', 'waterfall', 'skull-bash', 'bubble', 'rest', 'rock-slide', 'substitute', 'snore', 'curse', 'flail', 'protect', 'mud-slap', 'foresight', 'icy-wind', 'outrage', 'endure', 'rollout', 'false-swipe', 'swagger', 'attract', 'sleep-talk', 'return', 'frustration', 'dynamic-punch', 'rapid-spin', 'iron-tail', 'hidden-power', 'rain-dance', 'mirror-coat', 'rock-smash', 'whirlpool', 'fake-out', 'hail', 'facade', 'focus-punch', 'helping-hand', 'brick-break', 'yawn', 'refresh', 'secret-power', 'dive', 'mud-sport', 'weather-ball', 'rock-tomb', 'water-spout', 'muddy-water', 'iron-defense', 'water-pulse', 'gyro-ball', 'brine', 'natural-gift', 'fling', 'aqua-ring', 'aura-sphere', 'aqua-tail', 'dragon-pulse', 'zen-headbutt', 'captivate', 'aqua-jet', 'round', 'scald', 'shell-smash', 'water-pledge', 'work-up', 'confide', 'power-up-punch', 'life-dew', 'flip-turn']\n"
          ]
        }
      ],
      "source": [
        "print(squirtle_move)"
      ]
    }
  ],
  "metadata": {
    "colab": {
      "provenance": []
    },
    "kernelspec": {
      "display_name": "Python 3.9.12 ('base')",
      "language": "python",
      "name": "python3"
    },
    "language_info": {
      "name": "python",
      "version": "3.9.12"
    },
    "vscode": {
      "interpreter": {
        "hash": "a0e05950b156e14bfd14a3986910df437e0c0ff6f27fa95973a8b83e252441dd"
      }
    }
  },
  "nbformat": 4,
  "nbformat_minor": 0
}
